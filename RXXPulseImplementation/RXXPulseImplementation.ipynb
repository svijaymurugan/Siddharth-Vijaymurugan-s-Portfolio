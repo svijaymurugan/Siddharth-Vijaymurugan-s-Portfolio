{
 "cells": [
  {
   "cell_type": "code",
   "execution_count": 6,
   "id": "45a5e3bb-070c-473d-b2cd-d35b218a3b34",
   "metadata": {},
   "outputs": [
    {
     "name": "stdout",
     "output_type": "stream",
     "text": [
      "Traceback \u001b[1;36m(most recent call last)\u001b[0m:\n",
      "\u001b[1;36m  Cell \u001b[1;32mIn[6], line 13\u001b[1;36m\n",
      "\u001b[1;33m    account_provider = IBMQ.load_account()\u001b[1;36m\n",
      "\u001b[1;31mNameError\u001b[0m\u001b[1;31m:\u001b[0m name 'IBMQ' is not defined\n",
      "\n",
      "Use %tb to get the full traceback.\n"
     ]
    },
    {
     "data": {
      "text/html": [
       "\n",
       "<style>\n",
       ".button {\n",
       "  border: none;\n",
       "  color: white;\n",
       "  padding: 4px 8px;\n",
       "  text-align: center;\n",
       "  text-decoration: none;\n",
       "  display: inline-block;\n",
       "  font-size: 12px;\n",
       "  margin: 4px 2px;\n",
       "  transition-duration: 0.2s;\n",
       "  cursor: pointer;\n",
       "}\n",
       ".iqx-button {\n",
       "  background-color: #0f62fe; \n",
       "  color: white; \n",
       "}\n",
       ".iqx-button:hover {\n",
       "  background-color: #0043ce;\n",
       "  color: white;\n",
       "}\n",
       "</style>\n",
       "<a href=\"https://stackoverflow.com/search?q=NameError: name 'IBMQ' is not defined\" target='_blank'><button class='button iqx-button'>Search for solution online</button></a>\n"
      ],
      "text/plain": [
       "<IPython.core.display.HTML object>"
      ]
     },
     "metadata": {},
     "output_type": "display_data"
    }
   ],
   "source": [
    "import qiskit\n",
    "\n",
    "# Importing standard Qiskit libraries\n",
    "from qiskit import QuantumCircuit, transpile, schedule\n",
    "from qiskit.tools.jupyter import *\n",
    "from qiskit.visualization import *\n",
    "from ibm_quantum_widgets import *\n",
    "\n",
    "from qiskit import IBMQ, QuantumCircuit, execute\n",
    "from qiskit.pulse.library import Gaussian\n",
    "from qiskit import pulse as qiskit_pulse                  # This is where we access all of our Pulse features!\n",
    "from qiskit.circuit import QuantumCircuit, Gate\n",
    "import numpy as np\n",
    "import matplotlib.pyplot as plt\n",
    "import math\n",
    "from qiskit_ibm_runtime import QiskitRuntimeService, Sampler, Estimator, Session, Options\n",
    "\n",
    "# Loading your IBM Quantum account(s)\n",
    "service = QiskitRuntimeService(channel=\"ibm_quantum\")\n",
    "account_provider = IBMQ.load_account()\n",
    "provider = IBMQ.get_provider(hub='ibm-q', group='open', project='main')\n",
    "backend_name = 'ibm_perth'\n",
    "backend = provider.get_backend(backend_name)\n",
    "\n",
    "#This captures the pulse calibrations for a particular backend\n",
    "defaults = backend.defaults()\n",
    "calibrations = defaults.instruction_schedule_map\n",
    "config = backend.configuration()"
   ]
  },
  {
   "cell_type": "code",
   "execution_count": null,
   "id": "bbd904b0-59e6-4a00-8525-ccdea55954b0",
   "metadata": {
    "tags": []
   },
   "outputs": [],
   "source": [
    "#Functions defined to create template pulses for gates necessary to construct RXX gate\n",
    "\n",
    "def S_Gate(qubit):\n",
    "    #Produces the Pulse object to execute S gate (Half-Z Gate)\n",
    "    #Since Z gate can be achieved with a frame shift, this pulse solely consists of a frame shift of pi/2\n",
    "    \n",
    "    with qiskit_pulse.build(backend, name=\"S Gate\") as S_Gate:\n",
    "        qiskit_pulse.shift_phase(-1*np.pi/2, qiskit_pulse.DriveChannel(qubit))\n",
    "        \n",
    "    S_Gate = transforms.block_to_schedule(S_Gate)\n",
    "    \n",
    "    return S_Gate\n",
    "\n",
    "\n",
    "def SX_Gate(qubit):\n",
    "    #Retrieves pulse for Half-X Gate\n",
    "    #Already calibrated on backend\n",
    "    \n",
    "    SX_Gate = calibrations.get('sx', [qubit])\n",
    "    \n",
    "    return SX_Gate\n",
    "\n",
    "\n",
    "def H_Gate(qubit):\n",
    "    #Combines Half-X and Half-Z gates to create single Pulse object to replicate H-gate\n",
    "    \n",
    "    H_Gate = qiskit_pulse.Schedule()\n",
    "    H_Gate += S_Gate(qubit)\n",
    "    H_Gate += SX_Gate(qubit)\n",
    "    H_Gate += S_Gate(qubit)\n",
    "    \n",
    "    return H_Gate\n",
    "\n",
    "def CX_Gate(control_qubit, target_qubit):\n",
    "    #Retrieves calibrated pulse for CX Gate\n",
    "    #Used to extract Echoed Cross Resonance Pulses\n",
    "    \n",
    "    CX_Gate = calibrations.get('cx', [control_qubit, target_qubit])\n",
    "    \n",
    "    return CX_Gate\n",
    "\n",
    "def X_Gate(qubit):\n",
    "    #Retrieves calibrated pulse for X-Gate    \n",
    "    \n",
    "    X_Gate = calibrations.get('x', [qubit])\n",
    "    \n",
    "    return X_Gate\n",
    "\n",
    "      \n",
    "def identify_indices(cx_pulse):\n",
    "    #Given a calibrated a pulse for a CX-Gate\n",
    "    #Function identifies which elements of the pulse sequence are the Echoed Cross Resonance pulses\n",
    "    #ECR pulse consists of four CR pulses: CR(theta) on the drive channel, CR(-1 * theta) on the drive channel, CR(theta) on the control channel, and CR(-1 * theta) on the control channel\n",
    "    #Each is abbreviated as CRPD (CR Positive Drive), CRMD (CR Minus Drive), CRPU (CR Positive Control), and CRMU (CR Negative Control).\n",
    "    #Qiskit convention is to refer to the control channel with 'u'\n",
    "    \n",
    "    children = cx_pulse.children\n",
    "    indices = {}\n",
    "    \n",
    "    for a in range(len(children)):\n",
    "\n",
    "        child = children[a]\n",
    "        string = str(child[1]).lower()\n",
    "        text = string.split('cr90')\n",
    "\n",
    "        if len(text) == 3:\n",
    "\n",
    "            if 'gaussiansquare' in text[0]:\n",
    "\n",
    "                characters = text[1][0:3]\n",
    "\n",
    "            else:\n",
    "                continue\n",
    "\n",
    "        else:\n",
    "            continue\n",
    "\n",
    "        if characters[0] == 'p':\n",
    "\n",
    "            if characters[2] == 'd':\n",
    "                indices['crpd'] = a\n",
    "                #indices['crpu'] = a\n",
    "\n",
    "            elif characters[2] == 'u':\n",
    "                indices['crpu'] = a\n",
    "\n",
    "        elif characters[0] == 'm':\n",
    "\n",
    "            if characters[2] == 'd':\n",
    "                indices['crmd'] = a\n",
    "                \n",
    "            elif characters[2] == 'u':\n",
    "                indices['crmu'] = a\n",
    "\n",
    "    return indices  \n",
    "    \n",
    "\n",
    "def extract_pulse_values(instruction):\n",
    "    #Given a CR Pulse\n",
    "    #This function returns its parameters in a GaussianSquare Pulse object (as defined in Qiskit)\n",
    "    \n",
    "    string = str(instruction).lower()          \n",
    "    pulse_values = string.split('=')\n",
    "    \n",
    "    if pulse_values[5].split(',')[0][-1] == ')':\n",
    "        angle = float(pulse_values[5].split(',')[0][:-1])\n",
    "    else:    \n",
    "        angle = float(pulse_values[5].split(',')[0])        \n",
    "            \n",
    "    duration = int(pulse_values[1].split(',')[0])\n",
    "    sigma = float(pulse_values[2].split(',')[0])\n",
    "    width = float(pulse_values[3].split(',')[0])\n",
    "    amp = float(pulse_values[4].split(',')[0])\n",
    "    \n",
    "    vals = [duration, sigma, width, amp, angle]\n",
    "    \n",
    "    return vals\n",
    "\n",
    "def scale_pulse(pulse, theta):\n",
    "    #Given a CR Pulse and a theta value\n",
    "    #This function scales a CR Pulse to parametrize it\n",
    "    #Allows to parametrize RXX rotation in pulses\n",
    "    #Process is extracted from Appendix D of https://arxiv.org/abs/2012.11660\n",
    "    \n",
    "    samples = 16\n",
    "    vals = extract_pulse_values(pulse)\n",
    "    duration, sigma, width, amp, angle = vals[0], vals[1], vals[2], vals[3], vals[4]\n",
    "    risefall = (duration-width)/2\n",
    "    num_of_sigmas = 2*risefall/sigma   \n",
    "    \n",
    "    area = amp * (width + sigma*np.sqrt(2*np.pi)*math.erf(num_of_sigmas))\n",
    "    gaussian_area = amp*sigma*np.sqrt(2*np.pi)*math.erf(num_of_sigmas)\n",
    "    target_area = area * theta/(np.pi/2) \n",
    "    \n",
    "    \n",
    "    if target_area >= area:\n",
    "        \n",
    "        new_width = ((target_area - area) + width * amp)/amp\n",
    "        new_amplitude = amp    \n",
    "        new_duration = (new_width + num_of_sigmas * sigma)/samples\n",
    "        new_duration = math.ceil(new_duration) * samples\n",
    "    \n",
    "    elif area > target_area > gaussian_area:\n",
    "        \n",
    "        new_width = (target_area - gaussian_area)/amp        \n",
    "        new_amplitude = amp        \n",
    "        new_duration = (new_width + num_of_sigmas * sigma)/samples\n",
    "        new_duration = math.ceil(new_duration) * samples\n",
    "    \n",
    "    elif target_area <= gaussian_area:\n",
    "        \n",
    "        new_width = 0        \n",
    "        new_amplitude = target_area/(gaussian_area/amp)        \n",
    "        new_duration = (new_width + num_of_sigmas * sigma)/samples\n",
    "        new_duration = math.ceil(new_duration) * samples        \n",
    "        \n",
    "    return qiskit_pulse.GaussianSquare(duration = int(new_duration), sigma= sigma, width= new_width, amp= new_amplitude , angle=angle )\n",
    "    \n",
    "def Echoed_Cross_Resonance(qubit1, qubit2, theta):\n",
    "    #This function returns a pulse schedule for an Echoed Cross Resonance gate given a theta value on two qubits (for which the necessary gates have been calibrated)    \n",
    "    \n",
    "    CX_Pulse = CX_Gate(qubit1, qubit2)\n",
    "    X_Pulse = X_Gate(qubit1)\n",
    "    \n",
    "    indices = identify_indices(CX_Pulse)\n",
    "        \n",
    "    CR_Plus_D = qiskit_pulse.Schedule()\n",
    "    \n",
    "    #Extracts CRPD pulse from calibrated CX-Gate pulse sequence, scales it for given theta, then applies it on appropriate drive channel\n",
    "    CR_Plus_D += qiskit_pulse.Play(scale_pulse(CX_Pulse.children[indices.get('crpd')][1], theta), qiskit_pulse.DriveChannel(qubit2))\n",
    "\n",
    "    CR_Plus_U = qiskit_pulse.Schedule()\n",
    "    CR_Plus_U += qiskit_pulse.Play(scale_pulse(CX_Pulse.children[indices.get('crpu')][1], theta), qiskit_pulse.ControlChannel(qubit1))\n",
    "\n",
    "    CR_Minus_D = qiskit_pulse.Schedule()\n",
    "    CR_Minus_D += qiskit_pulse.Play(scale_pulse(CX_Pulse.children[indices.get('crmd')][1], theta), qiskit_pulse.DriveChannel(qubit2))\n",
    "\n",
    "    CR_Minus_U = qiskit_pulse.Schedule()\n",
    "    CR_Minus_U += qiskit_pulse.Play(scale_pulse(CX_Pulse.children[indices.get('crmu')][1], theta), qiskit_pulse.ControlChannel(qubit1))\n",
    "            \n",
    "    CR_PD_Duration = CR_Plus_D.duration\n",
    "    X_Pulse_Duration = X_Pulse.duration\n",
    "    \n",
    "    ECR = qiskit_pulse.Schedule()\n",
    "      \n",
    "    #Constructs ECR pulse with its components into one single pulse schedule\n",
    "    \n",
    "    ECR += CR_Plus_D\n",
    "    ECR += CR_Plus_U\n",
    "        \n",
    "    ECR += qiskit_pulse.Delay(CR_PD_Duration, qiskit_pulse.DriveChannel(qubit1))\n",
    "    \n",
    "    ECR += X_Pulse\n",
    "       \n",
    "    ECR += qiskit_pulse.Delay(CR_PD_Duration, qiskit_pulse.DriveChannel(qubit1))\n",
    "\n",
    "    ECR += qiskit_pulse.Delay(X_Pulse_Duration, qiskit_pulse.DriveChannel(qubit2))\n",
    "    ECR += qiskit_pulse.Delay(X_Pulse_Duration, qiskit_pulse.ControlChannel(qubit1))\n",
    "    \n",
    "    \n",
    "    ECR += CR_Minus_D\n",
    "    ECR += CR_Minus_U\n",
    "    \n",
    "    ECR += X_Pulse\n",
    "            \n",
    "    return ECR\n",
    "\n",
    "\n",
    "def RXX_Gate(qubit1, qubit2, theta):\n",
    "    #Function combines H-Gate and ECR-Gate pulse schedules\n",
    "    #Returns complete pulse schedule for paramaterized RXX Rotation\n",
    "    \n",
    "    RXX_Gate = qiskit_pulse.Schedule()\n",
    "    RXX_Gate += H_Gate(qubit1)    \n",
    "    RXX_Gate += Echoed_Cross_Resonance(qubit1, qubit2, theta)    \n",
    "    RXX_Gate += H_Gate(qubit1)\n",
    "    \n",
    "    return RXX_Gate"
   ]
  },
  {
   "cell_type": "code",
   "execution_count": 8,
   "id": "cd4c9fc7-a4cf-49a6-9f0e-79db3bd41503",
   "metadata": {
    "tags": []
   },
   "outputs": [
    {
     "name": "stdout",
     "output_type": "stream",
     "text": [
      "Traceback \u001b[1;36m(most recent call last)\u001b[0m:\n",
      "\u001b[1;36m  Cell \u001b[1;32mIn[8], line 1\u001b[1;36m\n",
      "\u001b[1;33m    theta_values = np.linspace(0, np.pi, 100)\u001b[1;36m\n",
      "\u001b[1;31mNameError\u001b[0m\u001b[1;31m:\u001b[0m name 'np' is not defined\n",
      "\n",
      "Use %tb to get the full traceback.\n"
     ]
    },
    {
     "data": {
      "text/html": [
       "\n",
       "<style>\n",
       ".button {\n",
       "  border: none;\n",
       "  color: white;\n",
       "  padding: 4px 8px;\n",
       "  text-align: center;\n",
       "  text-decoration: none;\n",
       "  display: inline-block;\n",
       "  font-size: 12px;\n",
       "  margin: 4px 2px;\n",
       "  transition-duration: 0.2s;\n",
       "  cursor: pointer;\n",
       "}\n",
       ".iqx-button {\n",
       "  background-color: #0f62fe; \n",
       "  color: white; \n",
       "}\n",
       ".iqx-button:hover {\n",
       "  background-color: #0043ce;\n",
       "  color: white;\n",
       "}\n",
       "</style>\n",
       "<a href=\"https://stackoverflow.com/search?q=NameError: name 'np' is not defined\" target='_blank'><button class='button iqx-button'>Search for solution online</button></a>\n"
      ],
      "text/plain": [
       "<IPython.core.display.HTML object>"
      ]
     },
     "metadata": {},
     "output_type": "display_data"
    }
   ],
   "source": [
    "theta_values = np.linspace(0, np.pi, 100)\n",
    "\n",
    "Pulse_Circuits = []\n",
    "\n",
    "for val in theta_values:\n",
    "\n",
    "    qc = QuantumCircuit(2,2)\n",
    "\n",
    "    rxx = Gate('RXX', 2, [])\n",
    "\n",
    "    qc.append(rxx, [0,1])\n",
    "\n",
    "    qc.add_calibration('RXX', [0,1], RXX_Gate(0,1,val))\n",
    "\n",
    "    qc.measure(range(2), range(2))\n",
    "\n",
    "    Pulse_Circuits.append(qc)\n",
    "    \n",
    "#pulse_job = execute(Pulse_Circuits, backend, shots=10000) #UNCOMMENT TO EXECUTE CIRCUITS\n",
    "#pulse_job_id = pulse_job.job_id()\n",
    "#Runs 100 RXX rotations in pulses for 100 theta values from 0 to pi "
   ]
  },
  {
   "cell_type": "code",
   "execution_count": null,
   "id": "33ea3707-ea5a-4c87-b880-593296ec51e0",
   "metadata": {},
   "outputs": [],
   "source": [
    "theta_values = np.linspace(0, np.pi, 100)\n",
    "\n",
    "Qiskit_Circuits = []\n",
    "\n",
    "for val in theta_values:\n",
    "    qc = QuantumCircuit(2,2)\n",
    "    \n",
    "    qc.rxx(val, 0, 1)\n",
    "    \n",
    "    qc.measure(range(2), range(2))\n",
    "    \n",
    "    Qiskit_Circuits.append(qc)\n",
    "    \n",
    "#job = execute(Qiskit_Circuits, backend, shots=10000) #UNCOMMENT TO EXECUTE CIRCUITS\n",
    "#qiskit_job_id = qiskit_job.job_id()\n",
    "#Runs 100 RXX rotations with Qiskit's transpiler at the gate-level for 100 theta values from 0 to pi"
   ]
  },
  {
   "cell_type": "code",
   "execution_count": null,
   "id": "05f72d50-908f-49ba-b35a-e4a44db28990",
   "metadata": {},
   "outputs": [],
   "source": [
    "num_of_shots = 10000 #number of shots used to run Pulse-Implementation and Qiskit-Implementation of RXX Gates\n",
    "\n",
    "qiskit_job = service.job(qiskit_job_id)\n",
    "pulse_job = service.job(pulse_job_id)\n",
    "\n",
    "theta_values = np.linspace(0, np.pi, 200)\n",
    "\n",
    "qiskit_zero_states = []\n",
    "    \n",
    "for a in range(len(qiskit_transpiler_job.result().get_counts())):\n",
    "    \n",
    "    #Retrives the counts of the '00' state with the Qiskit-Implementation of RXX gate\n",
    "    #Additional code is included within for loop to account for the counts of other states, if needed\n",
    "    \n",
    "    dicts = qiskit_transpiler_job.result().get_counts()\n",
    "    \n",
    "    first = dicts[a].get('00')\n",
    "    second = dicts[a].get('01')\n",
    "    third = dicts[a].get('10')\n",
    "    fourth = dicts[a].get('11')\n",
    "    \n",
    "    \n",
    "    if '00' not in qiskit_transpiler_job.result().get_counts()[a].keys():\n",
    "        first = 0\n",
    "        \n",
    "    if '01' not in qiskit_transpiler_job.result().get_counts()[a].keys():\n",
    "        second = 0\n",
    "        \n",
    "    if '10' not in qiskit_transpiler_job.result().get_counts()[a].keys():\n",
    "        third = 0\n",
    "        \n",
    "    if '11' not in qiskit_transpiler_job.result().get_counts()[a].keys():\n",
    "        fourth = 0\n",
    "    \n",
    "    qiskit_zero_states.append(first)\n",
    "    \n",
    "\n",
    "pulse_zero_states = []\n",
    "\n",
    "\n",
    "for a in range(len(pulse_job.result().get_counts())):\n",
    "    \n",
    "    #Retrives the counts of the '00' state with the Pulse-Implementation of RXX gate\n",
    "    #Additional code is included within for loop to account for the counts of other states, if needed\n",
    "    \n",
    "    dicts = pulse_job.result().get_counts()\n",
    "    \n",
    "    first = dicts[a].get('00')\n",
    "    second = dicts[a].get('01')\n",
    "    third = dicts[a].get('10')\n",
    "    fourth = dicts[a].get('11')\n",
    "    \n",
    "    if '00' not in pulse_job.result().get_counts()[a].keys():\n",
    "        first = 0\n",
    "        \n",
    "    if '01' not in pulse_job.result().get_counts()[a].keys():\n",
    "        second = 0\n",
    "        \n",
    "    if '10' not in pulse_job.result().get_counts()[a].keys():\n",
    "        third = 0\n",
    "        \n",
    "    if '11' not in pulse_job.result().get_counts()[a].keys():\n",
    "        fourth = 0\n",
    "    \n",
    "    \n",
    "    pulse_zero_state.appends(first)\n",
    "\n",
    "#Counts of '00' states are plotted in comparison to expected counts to observe accuracy of each implementation\n",
    "\n",
    "x = np.linspace(0, np.pi, 100)\n",
    "\n",
    "y1 = transpiler_zero_state\n",
    "y2 = pulse_zero_state\n",
    "y3 = [num_of_shots*(np.cos(a/2)**2)  for a in x] #Mathematically calculated probability of '00' state in terms of theta after RXX gate applied on '00' state\n",
    "\n",
    "fig, ax = plt.subplots()\n",
    "\n",
    "transpiler = plt.plot(x,y1)\n",
    "pulse = plt.plot(x,y2)\n",
    "theoretical = plt.plot(x, y3)\n",
    "plt.legend(['Qiskit', 'Pulse', 'Exact'])\n",
    "plt.show()"
   ]
  }
 ],
 "metadata": {
  "kernelspec": {
   "display_name": "Python 3 (ipykernel)",
   "language": "python",
   "name": "python3"
  },
  "language_info": {
   "codemirror_mode": {
    "name": "ipython",
    "version": 3
   },
   "file_extension": ".py",
   "mimetype": "text/x-python",
   "name": "python",
   "nbconvert_exporter": "python",
   "pygments_lexer": "ipython3",
   "version": "3.10.8"
  },
  "widgets": {
   "application/vnd.jupyter.widget-state+json": {
    "state": {
     "00931efcdc704103a70af2fd4134b3a1": {
      "model_module": "@jupyter-widgets/base",
      "model_module_version": "2.0.0",
      "model_name": "LayoutModel",
      "state": {
       "grid_template_areas": "\n                                       \". . . . right \"\n                                        ",
       "grid_template_columns": "20% 20% 20% 20% 20%",
       "width": "100%"
      }
     },
     "05dfd39752f14bf198df5c8447fdab72": {
      "model_module": "@jupyter-widgets/controls",
      "model_module_version": "2.0.0",
      "model_name": "ButtonStyleModel",
      "state": {
       "font_family": null,
       "font_size": null,
       "font_style": null,
       "font_variant": null,
       "font_weight": null,
       "text_color": null,
       "text_decoration": null
      }
     },
     "1624d0594ce34bdfb562d92ca10a47be": {
      "model_module": "@jupyter-widgets/controls",
      "model_module_version": "2.0.0",
      "model_name": "HTMLStyleModel",
      "state": {
       "description_width": "",
       "font_size": null,
       "text_color": null
      }
     },
     "3ae122f2b19249e2be446fba77d6983b": {
      "model_module": "@jupyter-widgets/controls",
      "model_module_version": "2.0.0",
      "model_name": "ButtonModel",
      "state": {
       "button_style": "primary",
       "description": "Clear",
       "layout": "IPY_MODEL_e5b869d276de4641b7eed5bf274ed787",
       "style": "IPY_MODEL_05dfd39752f14bf198df5c8447fdab72",
       "tooltip": null
      }
     },
     "3bda2f0511f843359aa472259ca7851d": {
      "model_module": "@jupyter-widgets/controls",
      "model_module_version": "2.0.0",
      "model_name": "HTMLModel",
      "state": {
       "layout": "IPY_MODEL_b215bdfb74d045eda1248a56f7a88873",
       "style": "IPY_MODEL_1624d0594ce34bdfb562d92ca10a47be",
       "value": "<h5>Queue</h5>"
      }
     },
     "53f3afcb6f5e466b82c2b23e1ee1ca73": {
      "model_module": "@jupyter-widgets/controls",
      "model_module_version": "2.0.0",
      "model_name": "HTMLStyleModel",
      "state": {
       "description_width": "",
       "font_size": null,
       "text_color": null
      }
     },
     "5590cd5027cc47a6bfd79bd34ae4be34": {
      "model_module": "@jupyter-widgets/controls",
      "model_module_version": "2.0.0",
      "model_name": "HTMLModel",
      "state": {
       "layout": "IPY_MODEL_6090a9d5b22f40f589689d82ff96ff6c",
       "style": "IPY_MODEL_b06902f5a4ce4328b58fbe05184eeb53",
       "value": "<h5>Message</h5>"
      }
     },
     "5d15cc9b1c4a4380acb53b0411807e05": {
      "model_module": "@jupyter-widgets/controls",
      "model_module_version": "2.0.0",
      "model_name": "HTMLModel",
      "state": {
       "layout": "IPY_MODEL_dd298d6b7e3b4fe38b7dcfa01e58bd3a",
       "style": "IPY_MODEL_94963cab294b47f8b6f629a38e25f675",
       "value": "<h5>Backend</h5>"
      }
     },
     "6090a9d5b22f40f589689d82ff96ff6c": {
      "model_module": "@jupyter-widgets/base",
      "model_module_version": "2.0.0",
      "model_name": "LayoutModel",
      "state": {}
     },
     "6c364ca1d4f94ee0b50a57f1db94f19c": {
      "model_module": "@jupyter-widgets/controls",
      "model_module_version": "2.0.0",
      "model_name": "HTMLStyleModel",
      "state": {
       "description_width": "",
       "font_size": null,
       "text_color": null
      }
     },
     "94963cab294b47f8b6f629a38e25f675": {
      "model_module": "@jupyter-widgets/controls",
      "model_module_version": "2.0.0",
      "model_name": "HTMLStyleModel",
      "state": {
       "description_width": "",
       "font_size": null,
       "text_color": null
      }
     },
     "969873348e014683a3171a100cbb0383": {
      "model_module": "@jupyter-widgets/controls",
      "model_module_version": "2.0.0",
      "model_name": "HTMLModel",
      "state": {
       "layout": "IPY_MODEL_974d5b8488ab40ebbe3400848bc37659",
       "style": "IPY_MODEL_e3db4c73a05d45ce97300d318f770b37",
       "value": "<h5>Job ID</h5>"
      }
     },
     "974d5b8488ab40ebbe3400848bc37659": {
      "model_module": "@jupyter-widgets/base",
      "model_module_version": "2.0.0",
      "model_name": "LayoutModel",
      "state": {
       "width": "190px"
      }
     },
     "9a9aeba85e2a47b59975426bac51c576": {
      "model_module": "@jupyter-widgets/controls",
      "model_module_version": "2.0.0",
      "model_name": "GridBoxModel",
      "state": {
       "children": [
        "IPY_MODEL_3ae122f2b19249e2be446fba77d6983b"
       ],
       "layout": "IPY_MODEL_00931efcdc704103a70af2fd4134b3a1"
      }
     },
     "9c7843aacbd54adb92f33061e5b64a59": {
      "model_module": "@jupyter-widgets/controls",
      "model_module_version": "2.0.0",
      "model_name": "HTMLModel",
      "state": {
       "layout": "IPY_MODEL_ef205610f51f44b68684c11ab93f0a77",
       "style": "IPY_MODEL_6c364ca1d4f94ee0b50a57f1db94f19c",
       "value": "<p style='font-family: IBM Plex Sans, Arial, Helvetica, sans-serif; font-size: 20px; font-weight: medium;'>Circuit Properties</p>"
      }
     },
     "b06902f5a4ce4328b58fbe05184eeb53": {
      "model_module": "@jupyter-widgets/controls",
      "model_module_version": "2.0.0",
      "model_name": "HTMLStyleModel",
      "state": {
       "description_width": "",
       "font_size": null,
       "text_color": null
      }
     },
     "b215bdfb74d045eda1248a56f7a88873": {
      "model_module": "@jupyter-widgets/base",
      "model_module_version": "2.0.0",
      "model_name": "LayoutModel",
      "state": {
       "width": "70px"
      }
     },
     "c110d2646c334aa7a5a322d9ab1f7c6f": {
      "model_module": "@jupyter-widgets/base",
      "model_module_version": "2.0.0",
      "model_name": "LayoutModel",
      "state": {
       "width": "95px"
      }
     },
     "cde46719ef054547917b5b86262fc9ff": {
      "model_module": "@jupyter-widgets/controls",
      "model_module_version": "2.0.0",
      "model_name": "HTMLModel",
      "state": {
       "layout": "IPY_MODEL_c110d2646c334aa7a5a322d9ab1f7c6f",
       "style": "IPY_MODEL_53f3afcb6f5e466b82c2b23e1ee1ca73",
       "value": "<h5>Status</h5>"
      }
     },
     "d353f7eb8cff424597ebeaa89e7f29e0": {
      "model_module": "@jupyter-widgets/controls",
      "model_module_version": "2.0.0",
      "model_name": "HBoxModel",
      "state": {
       "children": [
        "IPY_MODEL_969873348e014683a3171a100cbb0383",
        "IPY_MODEL_5d15cc9b1c4a4380acb53b0411807e05",
        "IPY_MODEL_cde46719ef054547917b5b86262fc9ff",
        "IPY_MODEL_3bda2f0511f843359aa472259ca7851d",
        "IPY_MODEL_5590cd5027cc47a6bfd79bd34ae4be34"
       ],
       "layout": "IPY_MODEL_ef5b22ac7b6144bc902be08a30253357"
      }
     },
     "dd298d6b7e3b4fe38b7dcfa01e58bd3a": {
      "model_module": "@jupyter-widgets/base",
      "model_module_version": "2.0.0",
      "model_name": "LayoutModel",
      "state": {
       "width": "145px"
      }
     },
     "e3db4c73a05d45ce97300d318f770b37": {
      "model_module": "@jupyter-widgets/controls",
      "model_module_version": "2.0.0",
      "model_name": "HTMLStyleModel",
      "state": {
       "description_width": "",
       "font_size": null,
       "text_color": null
      }
     },
     "e5b869d276de4641b7eed5bf274ed787": {
      "model_module": "@jupyter-widgets/base",
      "model_module_version": "2.0.0",
      "model_name": "LayoutModel",
      "state": {
       "grid_area": "right",
       "padding": "0px 0px 0px 0px",
       "width": "70px"
      }
     },
     "ef205610f51f44b68684c11ab93f0a77": {
      "model_module": "@jupyter-widgets/base",
      "model_module_version": "2.0.0",
      "model_name": "LayoutModel",
      "state": {
       "margin": "0px 0px 10px 0px"
      }
     },
     "ef5b22ac7b6144bc902be08a30253357": {
      "model_module": "@jupyter-widgets/base",
      "model_module_version": "2.0.0",
      "model_name": "LayoutModel",
      "state": {
       "margin": "0px 0px 0px 37px",
       "width": "600px"
      }
     }
    },
    "version_major": 2,
    "version_minor": 0
   }
  }
 },
 "nbformat": 4,
 "nbformat_minor": 5
}
